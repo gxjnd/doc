{
  "nbformat": 4,
  "nbformat_minor": 0,
  "metadata": {
    "colab": {
      "provenance": [],
      "authorship_tag": "ABX9TyOzEt1enllWP3Z03fmMdrKi",
      "include_colab_link": true
    },
    "kernelspec": {
      "name": "python3",
      "display_name": "Python 3"
    },
    "language_info": {
      "name": "python"
    }
  },
  "cells": [
    {
      "cell_type": "markdown",
      "metadata": {
        "id": "view-in-github",
        "colab_type": "text"
      },
      "source": [
        "<a href=\"https://colab.research.google.com/github/limingzxf/doc/blob/master/Sel.ipynb\" target=\"_parent\"><img src=\"https://colab.research.google.com/assets/colab-badge.svg\" alt=\"Open In Colab\"/></a>"
      ]
    },
    {
      "cell_type": "code",
      "execution_count": null,
      "metadata": {
        "id": "iIbM9VbmxYvP",
        "colab": {
          "base_uri": "https://localhost:8080/",
          "height": 306
        },
        "outputId": "55a2c489-d3bf-441f-b7af-beae63889f8f"
      },
      "outputs": [
        {
          "output_type": "stream",
          "name": "stdout",
          "text": [
            "hdhd85101@djdj.dhdh\n",
            "确认注册\n",
            "我同意\n",
            "\n",
            "\n",
            "\n",
            "\n",
            "vmess://eyJob3N0IjoiIiwicGF0aCI6IiIsInRscyI6IiIsInZlcmlmeV9jZXJ0Ijp0cnVlLCJhZGQiOiJ0dzk5LWhpbmV0Lm15bm9kZXMwMDEub25lIiwicG9ydCI6NTU0LCJhaWQiOjAsIm5ldCI6InRjcCIsImhlYWRlclR5cGUiOiJub25lIiwidiI6IjIiLCJ0eXBlIjoidm1lc3MiLCJwcyI6IuWPsOa5vjk5IEhpbmV055u06L+eIOmAn+W6pumaj+e8mCAwLjV4IiwicmVtYXJrIjoi5Y+w5rm+OTkgSGluZXTnm7Tov54g6YCf5bqm6ZqP57yYIDAuNXgiLCJpZCI6ImZlZjlhZjdjLWU4MDItM2NiZS04ZGNjLTVmMTkwYWExYThkMSIsImNsYXNzIjowfQ==\n",
            "vmess://eyJob3N0IjoianAtZGlyZWN0Lm5vZGUwMDIueHl6IiwicGF0aCI6IiIsInRscyI6InRscyIsInZlcmlmeV9jZXJ0Ijp0cnVlLCJhZGQiOiJqcC1kaXJlY3Qubm9kZTAwMi54eXoiLCJwb3J0Ijo1NTQsImFpZCI6MCwibmV0IjoidGNwIiwiaGVhZGVyVHlwZSI6Im5vbmUiLCJ2IjoiMiIsInR5cGUiOiJ2bWVzcyIsInBzIjoi5pel5pys55u06L+eQSDpgJ/luqbpmo/nvJggMC4zIiwicmVtYXJrIjoi5pel5pys55u06L+eQSDpgJ/luqbpmo/nvJggMC4zIiwiaWQiOiJmZWY5YWY3Yy1lODAyLTNjYmUtOGRjYy01ZjE5MGFhMWE4ZDEiLCJjbGFzcyI6MH0=\n",
            "vmess://eyJob3N0Ijoia3ItZGlyZWN0Lm5vZGUwMDIueHl6IiwicGF0aCI6IiIsInRscyI6InRscyIsInZlcmlmeV9jZXJ0Ijp0cnVlLCJhZGQiOiJrci1kaXJlY3Qubm9kZTAwMi54eXoiLCJwb3J0Ijo1NTQsImFpZCI6MCwibmV0IjoidGNwIiwiaGVhZGVyVHlwZSI6Im5vbmUiLCJ2IjoiMiIsInR5cGUiOiJ2bWVzcyIsInBzIjoi6Z+p5Zu955u06L+eQSDpgJ/luqbpmo/nvJggMC4zeCIsInJlbWFyayI6IumfqeWbveebtOi/nkEg6YCf5bqm6ZqP57yYIDAuM3giLCJpZCI6ImZlZjlhZjdjLWU4MDItM2NiZS04ZGNjLTVmMTkwYWExYThkMSIsImNsYXNzIjowfQ==\n",
            "vmess://eyJob3N0IjoiIiwicGF0aCI6IiIsInRscyI6IiIsInZlcmlmeV9jZXJ0Ijp0cnVlLCJhZGQiOiJ0dzk5LWhpbmV0Lm15bm9kZXMwMDEub25lIiwicG9ydCI6NTU0LCJhaWQiOjAsIm5ldCI6InRjcCIsImhlYWRlclR5cGUiOiJub25lIiwidiI6IjIiLCJ0eXBlIjoidm1lc3MiLCJwcyI6IuWPsOa5vjk5IEhpbmV055u06L+eIOmAn+W6pumaj+e8mCAwLjV4IiwicmVtYXJrIjoi5Y+w5rm+OTkgSGluZXTnm7Tov54g6YCf5bqm6ZqP57yYIDAuNXgiLCJpZCI6ImZlZjlhZjdjLWU4MDItM2NiZS04ZGNjLTVmMTkwYWExYThkMSIsImNsYXNzIjowfQ==\n",
            "vmess://eyJob3N0IjoianAtZGlyZWN0Lm5vZGUwMDIueHl6IiwicGF0aCI6IiIsInRscyI6InRscyIsInZlcmlmeV9jZXJ0Ijp0cnVlLCJhZGQiOiJqcC1kaXJlY3Qubm9kZTAwMi54eXoiLCJwb3J0Ijo1NTQsImFpZCI6MCwibmV0IjoidGNwIiwiaGVhZGVyVHlwZSI6Im5vbmUiLCJ2IjoiMiIsInR5cGUiOiJ2bWVzcyIsInBzIjoi5pel5pys55u06L+eQSDpgJ/luqbpmo/nvJggMC4zIiwicmVtYXJrIjoi5pel5pys55u06L+eQSDpgJ/luqbpmo/nvJggMC4zIiwiaWQiOiJmZWY5YWY3Yy1lODAyLTNjYmUtOGRjYy01ZjE5MGFhMWE4ZDEiLCJjbGFzcyI6MH0=\n",
            "vmess://eyJob3N0Ijoia3ItZGlyZWN0Lm5vZGUwMDIueHl6IiwicGF0aCI6IiIsInRscyI6InRscyIsInZlcmlmeV9jZXJ0Ijp0cnVlLCJhZGQiOiJrci1kaXJlY3Qubm9kZTAwMi54eXoiLCJwb3J0Ijo1NTQsImFpZCI6MCwibmV0IjoidGNwIiwiaGVhZGVyVHlwZSI6Im5vbmUiLCJ2IjoiMiIsInR5cGUiOiJ2bWVzcyIsInBzIjoi6Z+p5Zu955u06L+eQSDpgJ/luqbpmo/nvJggMC4zeCIsInJlbWFyayI6IumfqeWbveebtOi/nkEg6YCf5bqm6ZqP57yYIDAuM3giLCJpZCI6ImZlZjlhZjdjLWU4MDItM2NiZS04ZGNjLTVmMTkwYWExYThkMSIsImNsYXNzIjowfQ==\n",
            "\n"
          ]
        },
        {
          "output_type": "execute_result",
          "data": {
            "text/plain": [
              "<IPython.core.display.HTML object>"
            ],
            "text/html": [
              "<button onclick=navigator.clipboard.writeText('vmess://eyJob3N0IjoiIiwicGF0aCI6IiIsInRscyI6IiIsInZlcmlmeV9jZXJ0Ijp0cnVlLCJhZGQiOiJ0dzk5LWhpbmV0Lm15bm9kZXMwMDEub25lIiwicG9ydCI6NTU0LCJhaWQiOjAsIm5ldCI6InRjcCIsImhlYWRlclR5cGUiOiJub25lIiwidiI6IjIiLCJ0eXBlIjoidm1lc3MiLCJwcyI6IuWPsOa5vjk5IEhpbmV055u06L+eIOmAn+W6pumaj+e8mCAwLjV4IiwicmVtYXJrIjoi5Y+w5rm+OTkgSGluZXTnm7Tov54g6YCf5bqm6ZqP57yYIDAuNXgiLCJpZCI6ImZlZjlhZjdjLWU4MDItM2NiZS04ZGNjLTVmMTkwYWExYThkMSIsImNsYXNzIjowfQ==\n",
              "vmess://eyJob3N0IjoianAtZGlyZWN0Lm5vZGUwMDIueHl6IiwicGF0aCI6IiIsInRscyI6InRscyIsInZlcmlmeV9jZXJ0Ijp0cnVlLCJhZGQiOiJqcC1kaXJlY3Qubm9kZTAwMi54eXoiLCJwb3J0Ijo1NTQsImFpZCI6MCwibmV0IjoidGNwIiwiaGVhZGVyVHlwZSI6Im5vbmUiLCJ2IjoiMiIsInR5cGUiOiJ2bWVzcyIsInBzIjoi5pel5pys55u06L+eQSDpgJ/luqbpmo/nvJggMC4zIiwicmVtYXJrIjoi5pel5pys55u06L+eQSDpgJ/luqbpmo/nvJggMC4zIiwiaWQiOiJmZWY5YWY3Yy1lODAyLTNjYmUtOGRjYy01ZjE5MGFhMWE4ZDEiLCJjbGFzcyI6MH0=\n",
              "vmess://eyJob3N0Ijoia3ItZGlyZWN0Lm5vZGUwMDIueHl6IiwicGF0aCI6IiIsInRscyI6InRscyIsInZlcmlmeV9jZXJ0Ijp0cnVlLCJhZGQiOiJrci1kaXJlY3Qubm9kZTAwMi54eXoiLCJwb3J0Ijo1NTQsImFpZCI6MCwibmV0IjoidGNwIiwiaGVhZGVyVHlwZSI6Im5vbmUiLCJ2IjoiMiIsInR5cGUiOiJ2bWVzcyIsInBzIjoi6Z+p5Zu955u06L+eQSDpgJ/luqbpmo/nvJggMC4zeCIsInJlbWFyayI6IumfqeWbveebtOi/nkEg6YCf5bqm6ZqP57yYIDAuM3giLCJpZCI6ImZlZjlhZjdjLWU4MDItM2NiZS04ZGNjLTVmMTkwYWExYThkMSIsImNsYXNzIjowfQ==\n",
              "vmess://eyJob3N0IjoiIiwicGF0aCI6IiIsInRscyI6IiIsInZlcmlmeV9jZXJ0Ijp0cnVlLCJhZGQiOiJ0dzk5LWhpbmV0Lm15bm9kZXMwMDEub25lIiwicG9ydCI6NTU0LCJhaWQiOjAsIm5ldCI6InRjcCIsImhlYWRlclR5cGUiOiJub25lIiwidiI6IjIiLCJ0eXBlIjoidm1lc3MiLCJwcyI6IuWPsOa5vjk5IEhpbmV055u06L+eIOmAn+W6pumaj+e8mCAwLjV4IiwicmVtYXJrIjoi5Y+w5rm+OTkgSGluZXTnm7Tov54g6YCf5bqm6ZqP57yYIDAuNXgiLCJpZCI6ImZlZjlhZjdjLWU4MDItM2NiZS04ZGNjLTVmMTkwYWExYThkMSIsImNsYXNzIjowfQ==\n",
              "vmess://eyJob3N0IjoianAtZGlyZWN0Lm5vZGUwMDIueHl6IiwicGF0aCI6IiIsInRscyI6InRscyIsInZlcmlmeV9jZXJ0Ijp0cnVlLCJhZGQiOiJqcC1kaXJlY3Qubm9kZTAwMi54eXoiLCJwb3J0Ijo1NTQsImFpZCI6MCwibmV0IjoidGNwIiwiaGVhZGVyVHlwZSI6Im5vbmUiLCJ2IjoiMiIsInR5cGUiOiJ2bWVzcyIsInBzIjoi5pel5pys55u06L+eQSDpgJ/luqbpmo/nvJggMC4zIiwicmVtYXJrIjoi5pel5pys55u06L+eQSDpgJ/luqbpmo/nvJggMC4zIiwiaWQiOiJmZWY5YWY3Yy1lODAyLTNjYmUtOGRjYy01ZjE5MGFhMWE4ZDEiLCJjbGFzcyI6MH0=\n",
              "vmess://eyJob3N0Ijoia3ItZGlyZWN0Lm5vZGUwMDIueHl6IiwicGF0aCI6IiIsInRscyI6InRscyIsInZlcmlmeV9jZXJ0Ijp0cnVlLCJhZGQiOiJrci1kaXJlY3Qubm9kZTAwMi54eXoiLCJwb3J0Ijo1NTQsImFpZCI6MCwibmV0IjoidGNwIiwiaGVhZGVyVHlwZSI6Im5vbmUiLCJ2IjoiMiIsInR5cGUiOiJ2bWVzcyIsInBzIjoi6Z+p5Zu955u06L+eQSDpgJ/luqbpmo/nvJggMC4zeCIsInJlbWFyayI6IumfqeWbveebtOi/nkEg6YCf5bqm6ZqP57yYIDAuM3giLCJpZCI6ImZlZjlhZjdjLWU4MDItM2NiZS04ZGNjLTVmMTkwYWExYThkMSIsImNsYXNzIjowfQ==\n",
              "')> 复制</button>"
            ]
          },
          "metadata": {},
          "execution_count": 176
        }
      ],
      "source": [
        "\n",
        "\n",
        "from selenium import webdriver\n",
        "from selenium.webdriver.common.keys import Keys\n",
        "from selenium.webdriver.support.ui import WebDriverWait\n",
        "from selenium.webdriver.support import expected_conditions as EC \n",
        "from selenium.webdriver.common.by import By\n",
        "\n",
        "from IPython.display import HTML \n",
        "from google.colab import files\n",
        "import time\n",
        "import random\n",
        "from bs4 import BeautifulSoup\n",
        " \n",
        "options = webdriver.ChromeOptions()\n",
        "options.add_argument('--headless')\n",
        "options.add_argument('--no-sandbox')\n",
        "options.add_argument('--disable-dev-shm-usage')# open it, go to a website, and get results\n",
        "wd = webdriver.Chrome(options=options)\n",
        "wd.get(\"https://jinkela.lol/auth/register\")\n",
        "#print(wd.page_source)  # results\n",
        "source_t=str(wd.page_source)\n",
        "#source_t = source_t.replace('<','&lt;')\n",
        "#source_t = 'heloooolo\"\\'<'\n",
        "\n",
        "#print(source_t)\n",
        "def htmlspecialchars(text):\n",
        "    return (\n",
        "        text.replace(\"&\", \"&amp;\").\n",
        "        replace('\"', \"&quot;\").\n",
        "        replace(\"<\", \"&lt;\").\n",
        "        replace(\">\", \"&gt;\")\n",
        "    )\n",
        "#source_t = htmlspecialchars(source_t)\n",
        "#print(source_t)\n",
        "#navigator.clipboard.writeText(source_t)\n",
        "#source_t ='uddhdh'\n",
        "\n",
        "#st_0 =\"<button onclick=navigator.clipboard.writeText('\"\n",
        "#st_m =htmlspecialchars(source_t)\n",
        "#st_1 = \"')> 复制</button>\"\n",
        "#print(source_t)\n",
        "#source_t=st_0+st_m+st_1\n",
        "def write_f(source_t):\n",
        "  with open('example.txt', 'w') as f:\n",
        "    f.write(source_t)\n",
        "  files.download('example.txt')#HTML (source_t)\n",
        "\n",
        "\n",
        "y_e = random.randint(0,999)\n",
        "y_e_2 = random.randint(0,99)\n",
        "y_e = \"hdhd\"+str(y_e_2)+str(y_e)+\"@djdj.dhdh\"\n",
        "print(y_e)\n",
        "ll = random.randint(0,999)\n",
        "ll_1 = random.randint(0,99)\n",
        "ll = \"shdh\" + str(ll)+str(ll_1)\n",
        "get_e = wd.find_element(By.ID,\"email\")     \n",
        "get_e.send_keys(y_e)\n",
        "get_pd = wd.find_element(By.ID,\"passwd\")     \n",
        "get_pd.send_keys('kkk12345')\n",
        "get_repd = wd.find_element(By.ID,\"repasswd\")     \n",
        "get_repd.send_keys('kkk12345')\n",
        "\n",
        "get_wechat = wd.find_element(By.ID,\"wechat\")     \n",
        "get_wechat.send_keys(ll)\n",
        "\n",
        "\n",
        "\n",
        "get_btn = wd.find_element(\"xpath\",\"//button[@id='imtype']\")     \n",
        "get_btn.click()\n",
        "time.sleep(1)\n",
        "get_btn = wd.find_element(\"xpath\",\"//a[text()='Facebook']\")\n",
        "get_btn.click()\n",
        "\n",
        "get_btn = wd.find_element(\"xpath\",\"//button[@id='tos']\")     \n",
        "print(get_btn.text)\n",
        "get_btn.click()\n",
        "time.sleep(1)\n",
        "\n",
        "get_btn = wd.find_element(\"xpath\",\"//button[@id='reg']\")     \n",
        "print(get_btn.text)\n",
        "get_btn.click()\n",
        "time.sleep(3)\n",
        "\n",
        "\n",
        "\n",
        "url=\"#ui_menu\"\n",
        "get_btn = wd.find_element(\"xpath\",\"//a[@href='#ui_menu']\")\n",
        "get_btn.click()\n",
        "\n",
        "time.sleep(1)\n",
        "\n",
        "url=\"/user/node\"\n",
        "get_btn = wd.find_element(\"xpath\",\"//a[@href='/user/node']\")\n",
        "get_btn.click()\n",
        "time.sleep(1)\n",
        "\n",
        "'''\n",
        "\n",
        "time.sleep(1)\n",
        "get_btn = wd.find_element(\"xpath\",\"//a[text()='节点列表']\")\n",
        "get_btn.click()\n",
        "'''\n",
        "\n",
        "\n",
        "#print(wd.page_source)\n",
        "soup = BeautifulSoup(wd.page_source, 'html.parser')\n",
        "str_m =''\n",
        "for link in soup.find_all('a'):\n",
        "  \n",
        "  r_mid =  link.get('data-clipboard-text')\n",
        "  if(r_mid!=None):\n",
        "    str_m = str_m +r_mid+'\\n'\n",
        "\n",
        "print('\\n\\n\\n')\n",
        "print(str_m)\n",
        "st_0 =\"<button onclick=navigator.clipboard.writeText('\"\n",
        "st_m =str_m\n",
        "st_1 = \"')> 复制</button>\"\n",
        "\n",
        "source_t=st_0+st_m+st_1\n",
        "\n",
        "HTML(source_t)"
      ]
    },
    {
      "cell_type": "code",
      "source": [
        "\n",
        "from IPython.display import HTML \n",
        "text = 'hello' \n",
        "HTML(f\"<button onclick=navigator.clipboard.writeText('{text}')>复制</button>\")"
      ],
      "metadata": {
        "id": "IVBORVUfL3YX"
      },
      "execution_count": null,
      "outputs": []
    },
    {
      "cell_type": "code",
      "source": [
        "!pip3 install selenium\n",
        "!apt install chromium-chromedriver\n",
        "!pip3 install js2py"
      ],
      "metadata": {
        "id": "KIkc0SX0_0Mt"
      },
      "execution_count": null,
      "outputs": []
    },
    {
      "cell_type": "code",
      "source": [
        "from bs4 import BeautifulSoup"
      ],
      "metadata": {
        "id": "2ANdxAhxhqE2"
      },
      "execution_count": null,
      "outputs": []
    }
  ]
}