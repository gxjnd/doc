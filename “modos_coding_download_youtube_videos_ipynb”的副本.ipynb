{
  "cells": [
    {
      "cell_type": "markdown",
      "metadata": {
        "id": "view-in-github",
        "colab_type": "text"
      },
      "source": [
        "<a href=\"https://colab.research.google.com/github/limingzxf/doc/blob/master/%E2%80%9Cmodos_coding_download_youtube_videos_ipynb%E2%80%9D%E7%9A%84%E5%89%AF%E6%9C%AC.ipynb\" target=\"_parent\"><img src=\"https://colab.research.google.com/assets/colab-badge.svg\" alt=\"Open In Colab\"/></a>"
      ]
    },
    {
      "cell_type": "markdown",
      "metadata": {
        "id": "89X-HQ8gzujV"
      },
      "source": [
        "# Watch the video\n",
        "\n",
        "https://youtu.be/pOHf-duNK4c"
      ]
    },
    {
      "cell_type": "markdown",
      "metadata": {
        "id": "m2E2Dvm3pt1K"
      },
      "source": [
        "# Install Pytube Library"
      ]
    },
    {
      "cell_type": "code",
      "execution_count": null,
      "metadata": {
        "colab": {
          "base_uri": "https://localhost:8080/"
        },
        "id": "OxKpJI9gsvTQ",
        "outputId": "90dd260a-8121-4fbb-b179-4e01580b1efd"
      },
      "outputs": [
        {
          "output_type": "stream",
          "name": "stdout",
          "text": [
            "Collecting git+https://github.com/baxterisme/pytube\n",
            "  Cloning https://github.com/baxterisme/pytube to /tmp/pip-req-build-hf2zbnsc\n",
            "  Running command git clone -q https://github.com/baxterisme/pytube /tmp/pip-req-build-hf2zbnsc\n",
            "Building wheels for collected packages: pytube\n",
            "  Building wheel for pytube (setup.py) ... \u001b[?25l\u001b[?25hdone\n",
            "  Created wheel for pytube: filename=pytube-11.0.1-py3-none-any.whl size=56260 sha256=4ed1f1a78a5d982871d917d6212f4b8f8c7cb6c056aefb62cba6709f68606bd1\n",
            "  Stored in directory: /tmp/pip-ephem-wheel-cache-nlc3eg3l/wheels/26/8d/ec/15de0781f9973eb4fd3b2d4fe63b8c626d7b4d528e1b03b469\n",
            "Successfully built pytube\n",
            "Installing collected packages: pytube\n",
            "Successfully installed pytube-11.0.1\n"
          ]
        }
      ],
      "source": [
        "!pip install git+https://github.com/baxterisme/pytube"
      ]
    },
    {
      "cell_type": "markdown",
      "metadata": {
        "id": "QWt6BMj-qgll"
      },
      "source": [
        "# Add Your Video"
      ]
    },
    {
      "cell_type": "code",
      "execution_count": null,
      "metadata": {
        "colab": {
          "base_uri": "https://localhost:8080/",
          "height": 52
        },
        "id": "YhjL3s1Qm6TT",
        "outputId": "ba643987-6d2c-4402-a5e1-e2cd00f9c3d4"
      },
      "outputs": [
        {
          "output_type": "execute_result",
          "data": {
            "application/vnd.google.colaboratory.intrinsic+json": {
              "type": "string"
            },
            "text/plain": [
              "'Animals Of The Amazon 4K - Scenic Wildlife Film With Calming Music'"
            ]
          },
          "metadata": {},
          "execution_count": 8
        }
      ],
      "source": [
        "from pytube import YouTube\n",
        "\n",
        "\n",
        "link=\"https://youtu.be/NHo_x7aGGmU\"\n",
        "yt=YouTube(link)\n",
        "\n",
        "yt.title #insert your video url\n",
        "#yt.thumbnail_url\n",
        "#yt.title \n",
        "#doesn't required\n",
        "#print (\"#\")\n",
        "\n",
        "\n",
        "#yt.publish_date\n",
        "#yt.author"
      ]
    },
    {
      "cell_type": "code",
      "execution_count": null,
      "metadata": {
        "colab": {
          "base_uri": "https://localhost:8080/"
        },
        "id": "h9xXApltwjBm",
        "outputId": "fc136d23-5f84-42fe-e427-9663599780e6"
      },
      "outputs": [
        {
          "data": {
            "text/plain": [
              "<Stream: itag=\"17\" mime_type=\"video/3gpp\" res=\"144p\" fps=\"7fps\" vcodec=\"mp4v.20.3\" acodec=\"mp4a.40.2\" progressive=\"True\" type=\"video\">"
            ]
          },
          "execution_count": 58,
          "metadata": {},
          "output_type": "execute_result"
        }
      ],
      "source": [
        " yt.streams.first()"
      ]
    },
    {
      "cell_type": "code",
      "execution_count": null,
      "metadata": {
        "colab": {
          "base_uri": "https://localhost:8080/"
        },
        "id": "XfaIFb4vw6Rs",
        "outputId": "6c4f7f0f-faf4-4e16-bf73-818fd378fff1"
      },
      "outputs": [
        {
          "data": {
            "text/plain": [
              "[<Stream: itag=\"18\" mime_type=\"video/mp4\" res=\"360p\" fps=\"30fps\" vcodec=\"avc1.42001E\" acodec=\"mp4a.40.2\" progressive=\"True\" type=\"video\">, <Stream: itag=\"22\" mime_type=\"video/mp4\" res=\"720p\" fps=\"23fps\" vcodec=\"avc1.64001F\" acodec=\"mp4a.40.2\" progressive=\"True\" type=\"video\">, <Stream: itag=\"299\" mime_type=\"video/mp4\" res=\"1080p\" fps=\"45fps\" vcodec=\"avc1.64001f\" progressive=\"False\" type=\"video\">, <Stream: itag=\"298\" mime_type=\"video/mp4\" res=\"720p\" fps=\"45fps\" vcodec=\"avc1.64001f\" progressive=\"False\" type=\"video\">, <Stream: itag=\"135\" mime_type=\"video/mp4\" res=\"480p\" fps=\"23fps\" vcodec=\"avc1.4d4015\" progressive=\"False\" type=\"video\">, <Stream: itag=\"134\" mime_type=\"video/mp4\" res=\"360p\" fps=\"23fps\" vcodec=\"avc1.4d400d\" progressive=\"False\" type=\"video\">, <Stream: itag=\"133\" mime_type=\"video/mp4\" res=\"240p\" fps=\"23fps\" vcodec=\"avc1.4d400b\" progressive=\"False\" type=\"video\">, <Stream: itag=\"160\" mime_type=\"video/mp4\" res=\"144p\" fps=\"23fps\" vcodec=\"avc1.4d400a\" progressive=\"False\" type=\"video\">, <Stream: itag=\"139\" mime_type=\"audio/mp4\" abr=\"48kbps\" acodec=\"mp4a.40.5\" progressive=\"False\" type=\"audio\">, <Stream: itag=\"140\" mime_type=\"audio/mp4\" abr=\"128kbps\" acodec=\"mp4a.40.2\" progressive=\"False\" type=\"audio\">]"
            ]
          },
          "execution_count": 55,
          "metadata": {},
          "output_type": "execute_result"
        }
      ],
      "source": [
        "yt.streams.filter(file_extension='mp4')"
      ]
    },
    {
      "cell_type": "code",
      "execution_count": null,
      "metadata": {
        "colab": {
          "base_uri": "https://localhost:8080/",
          "height": 35
        },
        "id": "kCpnRs9yw1P7",
        "outputId": "f07f4f51-db28-4eab-f051-4cf6333dd0fe"
      },
      "outputs": [
        {
          "data": {
            "application/vnd.google.colaboratory.intrinsic+json": {
              "type": "string"
            },
            "text/plain": [
              "'安卓后台运行一个程序'"
            ]
          },
          "execution_count": 70,
          "metadata": {},
          "output_type": "execute_result"
        }
      ],
      "source": [
        "stream.title"
      ]
    },
    {
      "cell_type": "code",
      "execution_count": null,
      "metadata": {
        "colab": {
          "base_uri": "https://localhost:8080/"
        },
        "id": "R5BMCw-CnH5a",
        "outputId": "2dc68bcd-dea6-4455-a84f-17e0708fcc17"
      },
      "outputs": [
        {
          "name": "stdout",
          "output_type": "stream",
          "text": [
            "8.199954986572266\n"
          ]
        }
      ],
      "source": [
        "list =yt.streams.get_highest_resolution().filesize#show all available formats\n",
        "\n",
        "print(list/ 1048576)"
      ]
    },
    {
      "cell_type": "code",
      "execution_count": null,
      "metadata": {
        "id": "ZFfg1t_F3smG"
      },
      "outputs": [],
      "source": [
        "yt.streams.index(2)"
      ]
    },
    {
      "cell_type": "code",
      "execution_count": null,
      "metadata": {
        "colab": {
          "base_uri": "https://localhost:8080/",
          "height": 69
        },
        "id": "yYRk16m7a-tA",
        "outputId": "20a0e18e-57cf-42a6-ab32-501bbc7cc544"
      },
      "outputs": [
        {
          "output_type": "execute_result",
          "data": {
            "application/vnd.google.colaboratory.intrinsic+json": {
              "type": "string"
            },
            "text/plain": [
              "'/content/Animals Of The Amazon 4K - Scenic Wildlife Film With Calming Music.mp4'"
            ]
          },
          "metadata": {},
          "execution_count": 9
        }
      ],
      "source": [
        "yt.streams.get_highest_resolution().download()"
      ]
    },
    {
      "cell_type": "code",
      "source": [
        "!mv /content/Animals\\ Of\\ The\\ Amazon\\ 4K\\ -\\ Scenic\\ Wildlife\\ Film\\ With\\ Calming\\ Music.mp4 /content/Bv.mp4"
      ],
      "metadata": {
        "id": "Xon66gi3nqDW"
      },
      "execution_count": null,
      "outputs": []
    },
    {
      "cell_type": "code",
      "execution_count": null,
      "metadata": {
        "colab": {
          "base_uri": "https://localhost:8080/"
        },
        "id": "nDvFI-Ha_wE7",
        "outputId": "57648742-c85b-490a-8f1c-929133c21f66"
      },
      "outputs": [
        {
          "name": "stdout",
          "output_type": "stream",
          "text": [
            "<Stream: itag=\"18\" mime_type=\"video/mp4\" res=\"360p\" fps=\"30fps\" vcodec=\"avc1.42001E\" acodec=\"mp4a.40.2\" progressive=\"True\" type=\"video\"> 3.6614255905151367\n",
            "<Stream: itag=\"22\" mime_type=\"video/mp4\" res=\"720p\" fps=\"23fps\" vcodec=\"avc1.64001F\" acodec=\"mp4a.40.2\" progressive=\"True\" type=\"video\"> 8.199954986572266\n",
            "<Stream: itag=\"299\" mime_type=\"video/mp4\" res=\"1080p\" fps=\"45fps\" vcodec=\"avc1.64001f\" progressive=\"False\" type=\"video\"> 9.498039245605469\n",
            "<Stream: itag=\"298\" mime_type=\"video/mp4\" res=\"720p\" fps=\"45fps\" vcodec=\"avc1.64001f\" progressive=\"False\" type=\"video\"> 5.028285980224609\n",
            "<Stream: itag=\"135\" mime_type=\"video/mp4\" res=\"480p\" fps=\"23fps\" vcodec=\"avc1.4d4015\" progressive=\"False\" type=\"video\"> 2.167313575744629\n",
            "<Stream: itag=\"134\" mime_type=\"video/mp4\" res=\"360p\" fps=\"23fps\" vcodec=\"avc1.4d400d\" progressive=\"False\" type=\"video\"> 1.331207275390625\n",
            "<Stream: itag=\"133\" mime_type=\"video/mp4\" res=\"240p\" fps=\"23fps\" vcodec=\"avc1.4d400b\" progressive=\"False\" type=\"video\"> 0.7640848159790039\n",
            "<Stream: itag=\"160\" mime_type=\"video/mp4\" res=\"144p\" fps=\"23fps\" vcodec=\"avc1.4d400a\" progressive=\"False\" type=\"video\"> 0.43078136444091797\n",
            "<Stream: itag=\"139\" mime_type=\"audio/mp4\" abr=\"48kbps\" acodec=\"mp4a.40.5\" progressive=\"False\" type=\"audio\"> 1.5624408721923828\n",
            "<Stream: itag=\"140\" mime_type=\"audio/mp4\" abr=\"128kbps\" acodec=\"mp4a.40.2\" progressive=\"False\" type=\"audio\"> 4.144597053527832\n"
          ]
        },
        {
          "name": "stderr",
          "output_type": "stream",
          "text": [
            "/usr/local/lib/python3.7/dist-packages/ipykernel_launcher.py:1: DeprecationWarning: Call to deprecated function count (Get the size of this list directly using len()).\n",
            "  \"\"\"Entry point for launching an IPython kernel.\n"
          ]
        }
      ],
      "source": [
        "ct= yt.streams.filter(file_extension='mp4').count()\n",
        "al=yt.streams.filter(file_extension='mp4')\n",
        "for i in range (ct):\n",
        " print(al[i],al[i].filesize/1048576)\n",
        "#yt.streams.filter(file_extension='mp4').count()"
      ]
    },
    {
      "cell_type": "code",
      "execution_count": null,
      "metadata": {
        "colab": {
          "base_uri": "https://localhost:8080/"
        },
        "id": "HyVqzoRBnTvS",
        "outputId": "0211c4f0-f946-4d10-d9e6-bd9c56f56c84"
      },
      "outputs": [
        {
          "data": {
            "text/plain": [
              "[<Stream: itag=\"137\" mime_type=\"video/mp4\" res=\"1080p\" fps=\"24fps\" vcodec=\"avc1.640028\" progressive=\"False\" type=\"video\">, <Stream: itag=\"248\" mime_type=\"video/webm\" res=\"1080p\" fps=\"24fps\" vcodec=\"vp9\" progressive=\"False\" type=\"video\">, <Stream: itag=\"399\" mime_type=\"video/mp4\" res=\"1080p\" fps=\"24fps\" vcodec=\"av01.0.08M.08\" progressive=\"False\" type=\"video\">]"
            ]
          },
          "execution_count": 4,
          "metadata": {},
          "output_type": "execute_result"
        }
      ],
      "source": [
        "download = video.streams.filter(res=\"1080p\") #download specific resolution\n",
        "download #doesn't required"
      ]
    },
    {
      "cell_type": "markdown",
      "metadata": {
        "id": "oIUWmVywqYpj"
      },
      "source": [
        "# Download Directly"
      ]
    },
    {
      "cell_type": "code",
      "execution_count": null,
      "metadata": {
        "colab": {
          "base_uri": "https://localhost:8080/",
          "height": 52
        },
        "id": "Q0xqB4FIndhO",
        "outputId": "cddf4a57-87e0-4463-fa03-84c5c28f49d1"
      },
      "outputs": [
        {
          "data": {
            "application/vnd.google.colaboratory.intrinsic+json": {
              "type": "string"
            },
            "text/plain": [
              "'/content/Selena Gomez - De Una Vez (Official Video).mp4'"
            ]
          },
          "execution_count": 5,
          "metadata": {},
          "output_type": "execute_result"
        }
      ],
      "source": [
        "download.first().download() #download to your colab folder"
      ]
    },
    {
      "cell_type": "code",
      "execution_count": null,
      "metadata": {
        "colab": {
          "base_uri": "https://localhost:8080/"
        },
        "id": "FOnBJbAUu2dj",
        "outputId": "7c1b6409-9e8c-4ca7-f325-b87f0a655f92"
      },
      "outputs": [
        {
          "name": "stdout",
          "output_type": "stream",
          "text": [
            "sample_data  安卓后台运行一个程序.mp4\n"
          ]
        }
      ],
      "source": [
        "!ls"
      ]
    },
    {
      "cell_type": "markdown",
      "metadata": {
        "id": "Uf2z_y0hqT2b"
      },
      "source": [
        "# Send to Google Drive"
      ]
    },
    {
      "cell_type": "markdown",
      "metadata": {
        "id": "6BV36aFvqTyT"
      },
      "source": [
        ""
      ]
    },
    {
      "cell_type": "code",
      "execution_count": null,
      "metadata": {
        "colab": {
          "base_uri": "https://localhost:8080/"
        },
        "id": "9jBxOHoqiUTB",
        "outputId": "c1a1a1a3-abce-4c4b-ad44-80fc043f65e6"
      },
      "outputs": [
        {
          "output_type": "stream",
          "name": "stdout",
          "text": [
            "Mounted at /content/drive\n"
          ]
        }
      ],
      "source": [
        "\n",
        "from google.colab import drive\n",
        "drive.mount('/content/drive')"
      ]
    },
    {
      "cell_type": "code",
      "execution_count": null,
      "metadata": {
        "id": "roZhdDnzdN0c"
      },
      "outputs": [],
      "source": [
        "\n",
        "import requests\n",
        "import os\n",
        "import json\n",
        "from pytube import YouTube\n",
        "\n",
        "import time\n",
        "\n",
        "def simple():\n",
        "\n",
        "  token= \"5175226999:AAHGc7xxDXGEN6RuXX_4Zx46D2C1f1slSek\"\n",
        "  bot_link = f\"https://api.telegram.org/bot{token}/\"\n",
        "  YouTube_path = \"/content/drive/My Drive/youtube\"\n",
        "  bot_link_1 = f\"https://api.telegram.org/bot{token}/getUpdates\"\n",
        "  #print(bot_link_1)\n",
        "  payload_0 = {\n",
        "      \"offset\": 796313073\n",
        "   \n",
        "  } \n",
        "  payload = {\n",
        "      \"method\": \"sendMessage\",\n",
        "      \"chat_id\": 893172185,\n",
        "      \"text\": \"74\",\n",
        "      \"parse_mode\": \"Markdown\",\n",
        "      \"disable_web_page_preview\": True\n",
        "  } \n",
        "\n",
        "  filesize = os.path.getsize(\"/content/drive/My Drive/deal_message.txt\")\n",
        "  tail_c = 0\n",
        "  if (filesize == 0):\n",
        "    #print(\"empty\")\n",
        "    pass\n",
        "  else:\n",
        "      \n",
        "    with open(\"/content/drive/My Drive/deal_message.txt\", \"rb\") as file:\n",
        "      file.seek(-2, os.SEEK_END)\n",
        "      while file.read(1) != b'\\n':\n",
        "        if (file.seek(-2, os.SEEK_CUR) == 0):\n",
        "          break\n",
        "      tail_c = file.readline().decode().strip()\n",
        "        \n",
        "    \n",
        "    payload_0['offset']=int (tail_c)\n",
        "  \n",
        "  \n",
        "  response = requests.post(bot_link_1,data=payload_0)\n",
        "  \n",
        "#  print(response.status_code)\n",
        "  print(payload_0['offset'])\n",
        "  updates_str = response.text\n",
        "  print(updates_str)\n",
        "  updates_dumps = json.loads(updates_str)\n",
        "  \n",
        "  \n",
        "  #print(\"-----------\")\n",
        "  \n",
        "  \n",
        "  \n",
        "  \n",
        "  updates_len =len(updates_dumps['result'])\n",
        "  \n",
        "  if (updates_len==0):\n",
        "    pass\n",
        "  else :\n",
        "    update_id_com =updates_dumps['result'][0]['update_id']\n",
        "    #print(update_id_com)\n",
        "   # print(tail_c)\n",
        "    if (update_id_com==int (tail_c)):\n",
        "      k= 1\n",
        "    else:\n",
        "      k= 0\n",
        "    \n",
        "    #print(type (result))\n",
        "  #print(tail_c)\n",
        "  \n",
        "    #print(k)\n",
        "    \n",
        "    for i in range(k,updates_len):\n",
        "      #print(\"for k\")\n",
        "      result =updates_dumps['result'][i]\n",
        "      ok_get = result.get(\"message\")\n",
        "      \n",
        "      if ok_get:\n",
        "        \n",
        "        chat_id = result['message']['chat']['id']\n",
        "        \n",
        "        chat_text =result['message']['text']\n",
        "        \n",
        "\n",
        "        #print(chat_text)\n",
        "        https = \"https\"\n",
        "        url =0\n",
        "        url  = https in chat_text\n",
        "        current_tit =''\n",
        "        if (url):\n",
        "          link=chat_text\n",
        "          yt=YouTube(link)\n",
        "          current_t = yt.title #insert your video url\n",
        "          yt.streams.get_highest_resolution().download(YouTube_path)      \n",
        "          filelist=os.listdir(YouTube_path)\n",
        "          for item in filelist:\n",
        "            if (current_t in item):\n",
        "              current_tit = item\n",
        "              print(current_tit)\n",
        "              break\n",
        "          #os.system(f\"rm -rf {YouTube_path}/*\")\n",
        "          \n",
        "          payload['chat_id']=chat_id\n",
        "          payload['text']=f\"{current_tit}下载完毕\"  \n",
        "          response = requests.post(bot_link,data=payload)\n",
        "      \n",
        "        with open('/content/drive/My Drive/deal_message.txt', 'a') as f:\n",
        "          f.write(f'{result[\"update_id\"]}\\n')\n",
        "\n",
        "      else:\n",
        "        with open('/content/drive/My Drive/deal_message.txt', 'a') as f:\n",
        "          f.write(f'{result[\"update_id\"]}\\n')\n",
        "\n",
        "#!mkdir /content/drive/My\\ Drive/youtube\n",
        "\n",
        "      \n",
        "\n",
        "def main():\n",
        "  while 1:\n",
        "      \n",
        "    time.sleep(2.4)\n",
        "    simple()\n",
        "    \n",
        "if __name__==\"__main__\":\n",
        "  \n",
        "  main()"
      ]
    },
    {
      "cell_type": "code",
      "execution_count": null,
      "metadata": {
        "colab": {
          "base_uri": "https://localhost:8080/"
        },
        "id": "vVUzFMDXmBa2",
        "outputId": "3d7526e2-66f1-4228-b3db-9010d0bea481"
      },
      "outputs": [
        {
          "name": "stdout",
          "output_type": "stream",
          "text": [
            "mkdir: cannot create directory ‘/content/drive/My Drive/youtube’: File exists\n"
          ]
        }
      ],
      "source": [
        "\n",
        "!mkdir /content/drive/My\\ Drive/youtube"
      ]
    },
    {
      "cell_type": "code",
      "execution_count": null,
      "metadata": {
        "id": "f-nnElQvn1o9"
      },
      "outputs": [],
      "source": [
        "!cat /content/drive/My\\ Drive/deal_message.txt"
      ]
    },
    {
      "cell_type": "code",
      "execution_count": null,
      "metadata": {
        "id": "8_uHlIRdEE4v"
      },
      "outputs": [],
      "source": [
        "!pip3 install -U pyrogram"
      ]
    },
    {
      "cell_type": "code",
      "execution_count": null,
      "metadata": {
        "id": "aJLMsZw6EbPR"
      },
      "outputs": [],
      "source": [
        "!pip install asyncio"
      ]
    },
    {
      "cell_type": "code",
      "execution_count": null,
      "metadata": {
        "id": "2q4-AGokELd0"
      },
      "outputs": [],
      "source": [
        "\n",
        "import asyncio\n",
        "from pyrogram import Client\n",
        "\n",
        "import nest_asyncio\n",
        "nest_asyncio.apply()\n",
        "api_id = 959304\n",
        "api_hash = \"fadcc4782ebba2f77cf980a9be1644c2\"\n",
        "bot_token=\"5250742242:AAEmUgT71_5tCY5-OZpYQELtQv_Te4hu4mQ\"\n",
        "\n",
        "def progress(current, total):\n",
        "  print(f\"{current * 100 / total:.1f}%\")\n",
        "\n",
        "\n",
        "async def main():\n",
        "    async with Client(\"my_account\", api_id, api_hash,bot_token) as app:\n",
        "        await app.send_message(1879571781, \"Message sent with **Pyrogram**!\")\n",
        "# #await app.send_video(1879571781, \"Bv.mp4\")\n",
        "\n",
        "asyncio.run(main())"
      ]
    },
    {
      "cell_type": "code",
      "source": [
        "\n",
        "\n",
        "app.run()"
      ],
      "metadata": {
        "id": "w6_bPH8Zs3jc"
      },
      "execution_count": null,
      "outputs": []
    },
    {
      "cell_type": "code",
      "source": [
        "\n",
        "from pyrogram import Client\n",
        "\n",
        "\n",
        "api_id = 959304\n",
        "api_hash = \"fadcc4782ebba2f77cf980a9be1644c2\"\n",
        "bot_token=\"5250742242:AAEmUgT71_5tCY5-OZpYQELtQv_Te4hu4mQ\"\n",
        "#\n",
        "\n",
        "async def main():\n",
        "    async with Client(\"my_account\", api_id, api_hash,bot_token) as app:\n",
        "        await app.send_message(\"me\", \"Greetings from **Pyrogram**!\")\n",
        "\n",
        "\n",
        "app.run(main())"
      ],
      "metadata": {
        "id": "hX4Aaiz2tPYr"
      },
      "execution_count": null,
      "outputs": []
    },
    {
      "cell_type": "code",
      "execution_count": null,
      "metadata": {
        "colab": {
          "base_uri": "https://localhost:8080/"
        },
        "id": "XLjWo_O_HLn-",
        "outputId": "8724caad-7b53-4b32-f7f4-2e5610f9db0c"
      },
      "outputs": [
        {
          "output_type": "stream",
          "name": "stderr",
          "text": [
            "/usr/local/lib/python3.7/dist-packages/pyrogram/methods/utilities/run.py:58: RuntimeWarning: coroutine 'Start.start' was never awaited\n",
            "  self.start()\n",
            "RuntimeWarning: Enable tracemalloc to get the object allocation traceback\n",
            "/usr/local/lib/python3.7/dist-packages/pyrogram/methods/utilities/run.py:60: RuntimeWarning: coroutine 'Stop.stop' was never awaited\n",
            "  self.stop()\n",
            "RuntimeWarning: Enable tracemalloc to get the object allocation traceback\n"
          ]
        }
      ],
      "source": [
        "\n",
        "from pyrogram import Client\n",
        "\n",
        "app = Client(\"my_account\")\n",
        "app.run()"
      ]
    },
    {
      "cell_type": "code",
      "source": [
        "\n",
        "\n",
        "\n",
        "from subprocess import getoutput\n",
        "from IPython.display import HTML\n",
        "import requests\n",
        "import json\n",
        "import os\n",
        "import time\n",
        "YouTube_path = \"/content/drive/My Drive/youtube\"\n",
        "all_links =[]\n",
        "def get_shareable_link(file_path):\n",
        "  fid = getoutput(\"xattr -p 'user.drive.id' \" + \"'\" + file_path + \"'\")\n",
        "  #print(fid)\n",
        "  # make a link and display it\n",
        "#  print(f\"https://drive.google.com/file/d/{fid}\")\n",
        "  str =f\"https://drive.google.com/file/d/{fid}\"\n",
        "  all_links.append(str)\n",
        "filelist=os.listdir(YouTube_path)\n",
        "for item in filelist:\n",
        "  get_shareable_link(f\"/content/drive/My Drive/youtube/{item}\")\n",
        "\n",
        "def simple():\n",
        "  token= \"5175226999:AAHGc7xxDXGEN6RuXX_4Zx46D2C1f1slSek\"\n",
        "  bot_link = f\"https://api.telegram.org/bot{token}/\"\n",
        "  YouTube_path = \"/content/drive/My Drive/youtube\"\n",
        "  bot_link_1 = f\"https://api.telegram.org/bot{token}/getUpdates\"\n",
        "  #print(bot_link_1)\n",
        "  payload_0 = {\n",
        "      \"offset\": 796313073\n",
        "   \n",
        "  } \n",
        "  payload = {\n",
        "      \"method\": \"sendMessage\",\n",
        "      \"chat_id\": 893172185,\n",
        "      \"text\": \"74\",\n",
        "      \"parse_mode\": \"Markdown\",\n",
        "      \"disable_web_page_preview\": True\n",
        "  } \n",
        "\n",
        "  filesize = os.path.getsize(\"/content/drive/My Drive/deal_message.txt\")\n",
        "  tail_c = 0\n",
        "  if (filesize == 0):\n",
        "    #print(\"empty\")\n",
        "    pass\n",
        "  else:\n",
        "      \n",
        "    with open(\"/content/drive/My Drive/deal_message.txt\", \"rb\") as file:\n",
        "      file.seek(-2, os.SEEK_END)\n",
        "      while file.read(1) != b'\\n':\n",
        "        if (file.seek(-2, os.SEEK_CUR) == 0):\n",
        "          break\n",
        "      tail_c = file.readline().decode().strip()\n",
        "        \n",
        "    \n",
        "    payload_0['offset']=int (tail_c)\n",
        "  \n",
        "  \n",
        "  response = requests.post(bot_link_1,data=payload_0)\n",
        "  \n",
        "#  print(response.status_code)\n",
        "  print(payload_0['offset'])\n",
        "  updates_str = response.text\n",
        "  print(updates_str)\n",
        "  updates_dumps = json.loads(updates_str)\n",
        "  \n",
        "  \n",
        "  #print(\"-----------\")\n",
        "  \n",
        "  \n",
        "  \n",
        "  \n",
        "  updates_len =len(updates_dumps['result'])\n",
        "  \n",
        "  if (updates_len==0):\n",
        "    pass\n",
        "  else :\n",
        "    update_id_com =updates_dumps['result'][0]['update_id']\n",
        "    #print(update_id_com)\n",
        "   # print(tail_c)\n",
        "    if (update_id_com==int (tail_c)):\n",
        "      k= 1\n",
        "    else:\n",
        "      k= 0\n",
        "    \n",
        "    #print(type (result))\n",
        "  #print(tail_c)\n",
        "  \n",
        "    #print(k)\n",
        "    \n",
        "    for i in range(k,updates_len):\n",
        "      #print(\"for k\")\n",
        "      result =updates_dumps['result'][i]\n",
        "      ok_get = result.get(\"message\")\n",
        "      \n",
        "      if ok_get:\n",
        "        \n",
        "        chat_id = result['message']['chat']['id']\n",
        "        \n",
        "        chat_text =result['message']['text']\n",
        "        \n",
        "\n",
        "        #print(chat_text)\n",
        "        gets = \"gets\"\n",
        "        get_l =0\n",
        "        get_l  = gets in chat_text\n",
        "        current_tit =''\n",
        "        if(get_l):\n",
        "          payload['chat_id']=chat_id\n",
        "          for i in range(len(all_links)):\n",
        "           \n",
        "            payload['text']=f\"{all_links[i]}\"  \n",
        "            response = requests.post(bot_link,data=payload)\n",
        "\n",
        "        \n",
        "        with open('/content/drive/My Drive/deal_message.txt', 'a') as f:\n",
        "          f.write(f'{result[\"update_id\"]}\\n')\n",
        "\n",
        "      else:\n",
        "        with open('/content/drive/My Drive/deal_message.txt', 'a') as f:\n",
        "          f.write(f'{result[\"update_id\"]}\\n')\n",
        "\n",
        "def main():\n",
        "  while 1:\n",
        "      \n",
        "    time.sleep(2.4)\n",
        "    simple()\n",
        "    \n",
        "if __name__==\"__main__\":\n",
        "  \n",
        "  main()"
      ],
      "metadata": {
        "id": "inyCkY_Mh5l5"
      },
      "execution_count": null,
      "outputs": []
    },
    {
      "cell_type": "code",
      "source": [
        "!apt-get install xattr > /dev/null"
      ],
      "metadata": {
        "id": "zKw_m4191wsG"
      },
      "execution_count": null,
      "outputs": []
    },
    {
      "cell_type": "code",
      "source": [
        "! git clone --recursive https://github.com/vysheng/tg.git && cd tg"
      ],
      "metadata": {
        "colab": {
          "base_uri": "https://localhost:8080/"
        },
        "id": "mveeydKTvV64",
        "outputId": "f0b49da9-135e-406c-9494-196461b57dac"
      },
      "execution_count": null,
      "outputs": [
        {
          "output_type": "stream",
          "name": "stdout",
          "text": [
            "Cloning into 'tg'...\n",
            "remote: Enumerating objects: 4511, done.\u001b[K\n",
            "remote: Total 4511 (delta 0), reused 0 (delta 0), pack-reused 4511\u001b[K\n",
            "Receiving objects: 100% (4511/4511), 2.99 MiB | 15.63 MiB/s, done.\n",
            "Resolving deltas: 100% (3041/3041), done.\n",
            "Submodule 'tgl' (https://github.com/vysheng/tgl.git) registered for path 'tgl'\n",
            "Cloning into '/content/tg/tgl'...\n",
            "remote: Enumerating objects: 1555, done.        \n",
            "remote: Total 1555 (delta 0), reused 0 (delta 0), pack-reused 1555        \n",
            "Receiving objects: 100% (1555/1555), 1.03 MiB | 1.07 MiB/s, done.\n",
            "Resolving deltas: 100% (1137/1137), done.\n",
            "Submodule path 'tgl': checked out 'ffb04caca71de0cddf28cd33a4575922900a59ed'\n",
            "Submodule 'tl-parser' (https://github.com/vysheng/tl-parser) registered for path 'tgl/tl-parser'\n",
            "Cloning into '/content/tg/tgl/tl-parser'...\n",
            "remote: Enumerating objects: 87, done.        \n",
            "remote: Counting objects: 100% (4/4), done.        \n",
            "remote: Compressing objects: 100% (3/3), done.        \n",
            "remote: Total 87 (delta 1), reused 1 (delta 1), pack-reused 83        \n",
            "Submodule path 'tgl/tl-parser': checked out '36bf1902ff3476c75d0b1f42b34a91e944123b3c'\n"
          ]
        }
      ]
    },
    {
      "cell_type": "code",
      "source": [
        " !apt-get install libreadline-dev libconfig-dev libssl-dev lua5.2 liblua5.2-dev libevent-dev libjansson-dev libpython-dev make"
      ],
      "metadata": {
        "colab": {
          "base_uri": "https://localhost:8080/"
        },
        "id": "6P_pnTmfv4KG",
        "outputId": "f853f6c9-7110-4405-e1ea-7ac1e4d9c0ae"
      },
      "execution_count": null,
      "outputs": [
        {
          "output_type": "stream",
          "name": "stdout",
          "text": [
            "Reading package lists... Done\n",
            "Building dependency tree       \n",
            "Reading state information... Done\n",
            "libevent-dev is already the newest version (2.1.8-stable-4build1).\n",
            "libjansson-dev is already the newest version (2.11-1).\n",
            "liblua5.2-dev is already the newest version (5.2.4-1.1build1).\n",
            "libpython-dev is already the newest version (2.7.15~rc1-1).\n",
            "libreadline-dev is already the newest version (7.0-3).\n",
            "make is already the newest version (4.1-9.1ubuntu1).\n",
            "libconfig-dev is already the newest version (1.5-0.4).\n",
            "lua5.2 is already the newest version (5.2.4-1.1build1).\n",
            "libssl-dev is already the newest version (1.1.1-1ubuntu2.1~18.04.14).\n",
            "The following packages were automatically installed and are no longer required:\n",
            "  cuda-command-line-tools-10-0 cuda-command-line-tools-10-1\n",
            "  cuda-command-line-tools-11-0 cuda-compiler-10-0 cuda-compiler-10-1\n",
            "  cuda-compiler-11-0 cuda-cuobjdump-10-0 cuda-cuobjdump-10-1\n",
            "  cuda-cuobjdump-11-0 cuda-cupti-10-0 cuda-cupti-10-1 cuda-cupti-11-0\n",
            "  cuda-cupti-dev-11-0 cuda-documentation-10-0 cuda-documentation-10-1\n",
            "  cuda-documentation-11-0 cuda-documentation-11-1 cuda-gdb-10-0 cuda-gdb-10-1\n",
            "  cuda-gdb-11-0 cuda-gpu-library-advisor-10-0 cuda-gpu-library-advisor-10-1\n",
            "  cuda-libraries-10-0 cuda-libraries-10-1 cuda-libraries-11-0\n",
            "  cuda-memcheck-10-0 cuda-memcheck-10-1 cuda-memcheck-11-0 cuda-nsight-10-0\n",
            "  cuda-nsight-10-1 cuda-nsight-11-0 cuda-nsight-11-1 cuda-nsight-compute-10-0\n",
            "  cuda-nsight-compute-10-1 cuda-nsight-compute-11-0 cuda-nsight-compute-11-1\n",
            "  cuda-nsight-systems-10-1 cuda-nsight-systems-11-0 cuda-nsight-systems-11-1\n",
            "  cuda-nvcc-10-0 cuda-nvcc-10-1 cuda-nvcc-11-0 cuda-nvdisasm-10-0\n",
            "  cuda-nvdisasm-10-1 cuda-nvdisasm-11-0 cuda-nvml-dev-10-0 cuda-nvml-dev-10-1\n",
            "  cuda-nvml-dev-11-0 cuda-nvprof-10-0 cuda-nvprof-10-1 cuda-nvprof-11-0\n",
            "  cuda-nvprune-10-0 cuda-nvprune-10-1 cuda-nvprune-11-0 cuda-nvtx-10-0\n",
            "  cuda-nvtx-10-1 cuda-nvtx-11-0 cuda-nvvp-10-0 cuda-nvvp-10-1 cuda-nvvp-11-0\n",
            "  cuda-nvvp-11-1 cuda-samples-10-0 cuda-samples-10-1 cuda-samples-11-0\n",
            "  cuda-samples-11-1 cuda-sanitizer-11-0 cuda-sanitizer-api-10-1\n",
            "  cuda-toolkit-10-0 cuda-toolkit-10-1 cuda-toolkit-11-0 cuda-toolkit-11-1\n",
            "  cuda-tools-10-0 cuda-tools-10-1 cuda-tools-11-0 cuda-tools-11-1\n",
            "  cuda-visual-tools-10-0 cuda-visual-tools-10-1 cuda-visual-tools-11-0\n",
            "  cuda-visual-tools-11-1 default-jre dkms freeglut3 freeglut3-dev\n",
            "  keyboard-configuration libargon2-0 libcap2 libcryptsetup12\n",
            "  libdevmapper1.02.1 libfontenc1 libidn11 libip4tc0 libnvidia-cfg1-510\n",
            "  libnvidia-common-460 libnvidia-common-510 libnvidia-extra-510\n",
            "  libnvidia-fbc1-510 libnvidia-gl-510 libpam-systemd libpolkit-agent-1-0\n",
            "  libpolkit-backend-1-0 libpolkit-gobject-1-0 libxfont2 libxi-dev libxkbfile1\n",
            "  libxmu-dev libxmu-headers libxnvctrl0 libxtst6 nsight-compute-2020.2.1\n",
            "  nsight-compute-2022.1.0 nsight-systems-2020.3.2 nsight-systems-2020.3.4\n",
            "  nsight-systems-2021.5.2 nvidia-dkms-510 nvidia-kernel-common-510\n",
            "  nvidia-kernel-source-510 nvidia-modprobe nvidia-settings openjdk-11-jre\n",
            "  policykit-1 policykit-1-gnome python3-xkit screen-resolution-extra systemd\n",
            "  systemd-sysv udev x11-xkb-utils xserver-common xserver-xorg-core-hwe-18.04\n",
            "  xserver-xorg-video-nvidia-510\n",
            "Use 'apt autoremove' to remove them.\n",
            "0 upgraded, 0 newly installed, 0 to remove and 39 not upgraded.\n"
          ]
        }
      ]
    },
    {
      "cell_type": "code",
      "source": [
        "!sudo apt-get install libssl-dev"
      ],
      "metadata": {
        "colab": {
          "base_uri": "https://localhost:8080/"
        },
        "id": "mKZuci_O0oGc",
        "outputId": "63bece81-6ae3-488b-f808-91ade8f18ee5"
      },
      "execution_count": null,
      "outputs": [
        {
          "output_type": "stream",
          "name": "stdout",
          "text": [
            "Reading package lists... Done\n",
            "Building dependency tree       \n",
            "Reading state information... Done\n",
            "libssl-dev is already the newest version (1.1.1-1ubuntu2.1~18.04.14).\n",
            "The following packages were automatically installed and are no longer required:\n",
            "  cuda-command-line-tools-10-0 cuda-command-line-tools-10-1\n",
            "  cuda-command-line-tools-11-0 cuda-compiler-10-0 cuda-compiler-10-1\n",
            "  cuda-compiler-11-0 cuda-cuobjdump-10-0 cuda-cuobjdump-10-1\n",
            "  cuda-cuobjdump-11-0 cuda-cupti-10-0 cuda-cupti-10-1 cuda-cupti-11-0\n",
            "  cuda-cupti-dev-11-0 cuda-documentation-10-0 cuda-documentation-10-1\n",
            "  cuda-documentation-11-0 cuda-documentation-11-1 cuda-gdb-10-0 cuda-gdb-10-1\n",
            "  cuda-gdb-11-0 cuda-gpu-library-advisor-10-0 cuda-gpu-library-advisor-10-1\n",
            "  cuda-libraries-10-0 cuda-libraries-10-1 cuda-libraries-11-0\n",
            "  cuda-memcheck-10-0 cuda-memcheck-10-1 cuda-memcheck-11-0 cuda-nsight-10-0\n",
            "  cuda-nsight-10-1 cuda-nsight-11-0 cuda-nsight-11-1 cuda-nsight-compute-10-0\n",
            "  cuda-nsight-compute-10-1 cuda-nsight-compute-11-0 cuda-nsight-compute-11-1\n",
            "  cuda-nsight-systems-10-1 cuda-nsight-systems-11-0 cuda-nsight-systems-11-1\n",
            "  cuda-nvcc-10-0 cuda-nvcc-10-1 cuda-nvcc-11-0 cuda-nvdisasm-10-0\n",
            "  cuda-nvdisasm-10-1 cuda-nvdisasm-11-0 cuda-nvml-dev-10-0 cuda-nvml-dev-10-1\n",
            "  cuda-nvml-dev-11-0 cuda-nvprof-10-0 cuda-nvprof-10-1 cuda-nvprof-11-0\n",
            "  cuda-nvprune-10-0 cuda-nvprune-10-1 cuda-nvprune-11-0 cuda-nvtx-10-0\n",
            "  cuda-nvtx-10-1 cuda-nvtx-11-0 cuda-nvvp-10-0 cuda-nvvp-10-1 cuda-nvvp-11-0\n",
            "  cuda-nvvp-11-1 cuda-samples-10-0 cuda-samples-10-1 cuda-samples-11-0\n",
            "  cuda-samples-11-1 cuda-sanitizer-11-0 cuda-sanitizer-api-10-1\n",
            "  cuda-toolkit-10-0 cuda-toolkit-10-1 cuda-toolkit-11-0 cuda-toolkit-11-1\n",
            "  cuda-tools-10-0 cuda-tools-10-1 cuda-tools-11-0 cuda-tools-11-1\n",
            "  cuda-visual-tools-10-0 cuda-visual-tools-10-1 cuda-visual-tools-11-0\n",
            "  cuda-visual-tools-11-1 default-jre dkms freeglut3 freeglut3-dev\n",
            "  keyboard-configuration libargon2-0 libcap2 libcryptsetup12\n",
            "  libdevmapper1.02.1 libfontenc1 libidn11 libip4tc0 libnvidia-cfg1-510\n",
            "  libnvidia-common-460 libnvidia-common-510 libnvidia-extra-510\n",
            "  libnvidia-fbc1-510 libnvidia-gl-510 libpam-systemd libpolkit-agent-1-0\n",
            "  libpolkit-backend-1-0 libpolkit-gobject-1-0 libxfont2 libxi-dev libxkbfile1\n",
            "  libxmu-dev libxmu-headers libxnvctrl0 libxtst6 nsight-compute-2020.2.1\n",
            "  nsight-compute-2022.1.0 nsight-systems-2020.3.2 nsight-systems-2020.3.4\n",
            "  nsight-systems-2021.5.2 nvidia-dkms-510 nvidia-kernel-common-510\n",
            "  nvidia-kernel-source-510 nvidia-modprobe nvidia-settings openjdk-11-jre\n",
            "  policykit-1 policykit-1-gnome python3-xkit screen-resolution-extra systemd\n",
            "  systemd-sysv udev x11-xkb-utils xserver-common xserver-xorg-core-hwe-18.04\n",
            "  xserver-xorg-video-nvidia-510\n",
            "Use 'sudo apt autoremove' to remove them.\n",
            "0 upgraded, 0 newly installed, 0 to remove and 39 not upgraded.\n"
          ]
        }
      ]
    },
    {
      "cell_type": "code",
      "source": [
        "%cd tg \n",
        "\n",
        "!ls -a\n",
        "!./configure\n",
        "!make"
      ],
      "metadata": {
        "colab": {
          "base_uri": "https://localhost:8080/"
        },
        "id": "-eja6_Pkv93o",
        "outputId": "7f3e44b8-e9ef-44c5-8f7d-2e3628afb028"
      },
      "execution_count": null,
      "outputs": [
        {
          "output_type": "stream",
          "name": "stdout",
          "text": [
            "[Errno 2] No such file or directory: 'tg'\n",
            "/content/tg\n",
            ".\t       dep\t    lua-tg.h\t\t    README.es\n",
            "..\t       event-old.h  m4_ax_check_openssl.m4  README-LUA\n",
            "auto\t       gentoo\t    m4_ax_check_zlib.m4     README.md\n",
            "ax_lua.m4      .git\t    m4-ax_gcc_builtin.m4    README-PY.md\n",
            "ax_python.m4   .gitignore   main.c\t\t    rpm\n",
            "bin\t       .gitmodules  Makefile\t\t    server.pub\n",
            "bootstrap      interface.c  Makefile.in\t\t    start-telegram-daemon\n",
            "CHANGELOG      interface.h  Makefile.tgl\t    telegram-cli-cygwin.patch\n",
            "config.h       json-tg.c    Makefile.tl-parser\t    telegram-cli.spec\n",
            "config.h.in    json-tg.h    mime.types\t\t    telegram-daemon\n",
            "config.log     libs\t    objs\t\t    telegram.h\n",
            "config.sample  LICENSE\t    python-tg.c\t\t    test.lua\n",
            "config.status  LICENSE.h    python-tg.h\t\t    tgl\n",
            "configure      loop.c\t    python-types.c\t    tg-server.pub\n",
            "configure.ac   loop.h\t    python-types.h\t    tg-test.py\n",
            "debian\t       lua-tg.c     README-Cygwin.md\t    .travis.yml\n",
            "checking for gcc... gcc\n",
            "checking whether the C compiler works... yes\n",
            "checking for C compiler default output file name... a.out\n",
            "checking for suffix of executables... \n",
            "checking whether we are cross compiling... no\n",
            "checking for suffix of object files... o\n",
            "checking whether we are using the GNU C compiler... yes\n",
            "checking whether gcc accepts -g... yes\n",
            "checking for gcc option to accept ISO C89... none needed\n",
            "checking for library containing clock_gettime... none required\n",
            "checking for library containing backtrace... none required\n",
            "checking for event_base_new in -levent... yes\n",
            "checking how to run the C preprocessor... gcc -E\n",
            "checking for grep that handles long lines and -e... /bin/grep\n",
            "checking for egrep... /bin/grep -E\n",
            "checking for ANSI C header files... yes\n",
            "checking for sys/types.h... yes\n",
            "checking for sys/stat.h... yes\n",
            "checking for stdlib.h... yes\n",
            "checking for string.h... yes\n",
            "checking for memory.h... yes\n",
            "checking for strings.h... yes\n",
            "checking for inttypes.h... yes\n",
            "checking for stdint.h... yes\n",
            "checking for unistd.h... yes\n",
            "checking event2/event.h usability... yes\n",
            "checking event2/event.h presence... yes\n",
            "checking for event2/event.h... yes\n",
            "checking for pkg-config... /usr/bin/pkg-config\n",
            "checking whether compiling and linking against OpenSSL works... yes\n",
            "checking if zlib is wanted... yes\n",
            "checking for inflateEnd in -lz... yes\n",
            "checking zlib.h usability... yes\n",
            "checking zlib.h presence... yes\n",
            "checking for zlib.h... yes\n",
            "checking for rl_save_prompt in -lreadline... yes\n",
            "checking for libconfig... enabled\n",
            "checking for config_init in -lconfig... yes\n",
            "checking for liblua... enabled\n",
            "checking for lua... /usr/bin/lua\n",
            "checking if /usr/bin/lua is a Lua interpreter... yes\n",
            "checking for lua version... 5.2\n",
            "checking for lua platform... unknown\n",
            "checking for lua script directory... ${prefix}/share/lua/5.2\n",
            "checking for lua module directory... ${exec_prefix}/lib/lua/5.2\n",
            "checking if LUA_VERSION is defined... yes\n",
            "checking lua.h usability... no\n",
            "checking lua.h presence... no\n",
            "checking for lua.h... no\n",
            "checking lualib.h usability... no\n",
            "checking lualib.h presence... no\n",
            "checking for lualib.h... no\n",
            "checking lauxlib.h usability... no\n",
            "checking lauxlib.h presence... no\n",
            "checking for lauxlib.h... no\n",
            "checking luaconf.h usability... no\n",
            "checking luaconf.h presence... no\n",
            "checking for luaconf.h... no\n",
            "checking for Lua headers in... /usr/include/lua5.2\n",
            "checking lua.h usability... yes\n",
            "checking lua.h presence... yes\n",
            "checking for lua.h... yes\n",
            "checking lualib.h usability... yes\n",
            "checking lualib.h presence... yes\n",
            "checking for lualib.h... yes\n",
            "checking lauxlib.h usability... yes\n",
            "checking lauxlib.h presence... yes\n",
            "checking for lauxlib.h... yes\n",
            "checking luaconf.h usability... yes\n",
            "checking luaconf.h presence... yes\n",
            "checking for luaconf.h... yes\n",
            "checking for Lua header version... 5.2\n",
            "checking if Lua header version matches 5.2... yes\n",
            "checking if LUA_VERSION is defined... yes\n",
            "checking for library containing exp... -lm\n",
            "checking for library containing dlopen... -ldl\n",
            "checking for library containing lua_load... -llua5.2\n",
            "checking for python... disabled\n",
            "checking for libjansson... enabled\n",
            "checking for json_array_set_new in -ljansson... yes\n",
            "checking progname... default\n",
            "checking execinfo.h usability... yes\n",
            "checking execinfo.h presence... yes\n",
            "checking for execinfo.h... yes\n",
            "checking fcntl.h usability... yes\n",
            "checking fcntl.h presence... yes\n",
            "checking for fcntl.h... yes\n",
            "checking malloc.h usability... yes\n",
            "checking malloc.h presence... yes\n",
            "checking for malloc.h... yes\n",
            "checking netdb.h usability... yes\n",
            "checking netdb.h presence... yes\n",
            "checking for netdb.h... yes\n",
            "checking for stdlib.h... (cached) yes\n",
            "checking for string.h... (cached) yes\n",
            "checking for unistd.h... (cached) yes\n",
            "checking arpa/inet.h usability... yes\n",
            "checking arpa/inet.h presence... yes\n",
            "checking for arpa/inet.h... yes\n",
            "checking mach/mach.h usability... no\n",
            "checking mach/mach.h presence... no\n",
            "checking for mach/mach.h... no\n",
            "checking netinet/in.h usability... yes\n",
            "checking netinet/in.h presence... yes\n",
            "checking for netinet/in.h... yes\n",
            "checking sys/file.h usability... yes\n",
            "checking sys/file.h presence... yes\n",
            "checking for sys/file.h... yes\n",
            "checking sys/socket.h usability... yes\n",
            "checking sys/socket.h presence... yes\n",
            "checking for sys/socket.h... yes\n",
            "checking termios.h usability... yes\n",
            "checking termios.h presence... yes\n",
            "checking for termios.h... yes\n",
            "checking for size_t... yes\n",
            "checking for uid_t in sys/types.h... yes\n",
            "checking for inline... inline\n",
            "checking for stdlib.h... (cached) yes\n",
            "checking for GNU libc compatible malloc... yes\n",
            "checking for stdlib.h... (cached) yes\n",
            "checking for GNU libc compatible realloc... yes\n",
            "checking for alarm... yes\n",
            "checking for endpwent... yes\n",
            "checking for memset... yes\n",
            "checking for memmove... yes\n",
            "checking for mkdir... yes\n",
            "checking for select... yes\n",
            "checking for socket... yes\n",
            "checking for strdup... yes\n",
            "checking for strndup... yes\n",
            "checking for uname... yes\n",
            "checking for __builtin_bswap32... yes\n",
            "configure: creating ./config.status\n",
            "config.status: creating Makefile\n",
            "config.status: creating config.h\n",
            "config.status: config.h is unchanged\n",
            "gcc -I. -I. -I./tgl -g -O2  -I/usr/local/include -I/usr/include -I/usr/include -I/usr/include/lua5.2  -DHAVE_CONFIG_H -Wall -Werror -Wextra -Wno-missing-field-initializers -Wno-deprecated-declarations -fno-strict-aliasing -fno-omit-frame-pointer -ggdb -Wno-unused-parameter -fPIC -iquote ./tgl -c -MP -MD -MF dep/crypto/rsa_pem_openssl.d -MQ objs/crypto/rsa_pem_openssl.o -o objs/crypto/rsa_pem_openssl.o tgl/crypto/rsa_pem_openssl.c\n",
            "\u001b[01m\u001b[Ktgl/crypto/rsa_pem_openssl.c:\u001b[m\u001b[K In function ‘\u001b[01m\u001b[KTGLC_rsa_new\u001b[m\u001b[K’:\n",
            "\u001b[01m\u001b[Ktgl/crypto/rsa_pem_openssl.c:41:6:\u001b[m\u001b[K \u001b[01;31m\u001b[Kerror: \u001b[m\u001b[Kdereferencing pointer to incomplete type ‘\u001b[01m\u001b[KRSA {aka struct rsa_st}\u001b[m\u001b[K’\n",
            "   ret\u001b[01;31m\u001b[K->\u001b[m\u001b[Ke = unwrap_bn (TGLC_bn_new ());\n",
            "      \u001b[01;31m\u001b[K^~\u001b[m\u001b[K\n",
            "\u001b[01m\u001b[Ktgl/crypto/rsa_pem_openssl.c:\u001b[m\u001b[K In function ‘\u001b[01m\u001b[KTGLC_rsa_n\u001b[m\u001b[K’:\n",
            "\u001b[01m\u001b[Ktgl/crypto/rsa_pem_openssl.c:52:1:\u001b[m\u001b[K \u001b[01;31m\u001b[Kerror: \u001b[m\u001b[Kcontrol reaches end of non-void function [\u001b[01;31m\u001b[K-Werror=return-type\u001b[m\u001b[K]\n",
            " \u001b[01;31m\u001b[KRSA_GETTER\u001b[m\u001b[K(n);\n",
            " \u001b[01;31m\u001b[K^~~~~~~~~~\u001b[m\u001b[K\n",
            "\u001b[01m\u001b[Ktgl/crypto/rsa_pem_openssl.c:\u001b[m\u001b[K In function ‘\u001b[01m\u001b[KTGLC_rsa_e\u001b[m\u001b[K’:\n",
            "\u001b[01m\u001b[Ktgl/crypto/rsa_pem_openssl.c:53:1:\u001b[m\u001b[K \u001b[01;31m\u001b[Kerror: \u001b[m\u001b[Kcontrol reaches end of non-void function [\u001b[01;31m\u001b[K-Werror=return-type\u001b[m\u001b[K]\n",
            " \u001b[01;31m\u001b[KRSA_GETTER\u001b[m\u001b[K(e);\n",
            " \u001b[01;31m\u001b[K^~~~~~~~~~\u001b[m\u001b[K\n",
            "cc1: all warnings being treated as errors\n",
            "Makefile.tgl:20: recipe for target 'objs/crypto/rsa_pem_openssl.o' failed\n",
            "make: *** [objs/crypto/rsa_pem_openssl.o] Error 1\n"
          ]
        }
      ]
    },
    {
      "cell_type": "code",
      "source": [
        "%cd tg/bin\n",
        "!ls"
      ],
      "metadata": {
        "colab": {
          "base_uri": "https://localhost:8080/"
        },
        "id": "sPpxpzzEzdoO",
        "outputId": "1777deb3-d707-4dcf-820f-d2e79902ae02"
      },
      "execution_count": null,
      "outputs": [
        {
          "output_type": "stream",
          "name": "stdout",
          "text": [
            "[Errno 2] No such file or directory: 'tg/bin'\n",
            "/content/tg\n",
            "auto\t       json-tg.h\t       python-types.c\n",
            "ax_lua.m4      libs\t\t       python-types.h\n",
            "ax_python.m4   LICENSE\t\t       README-Cygwin.md\n",
            "bin\t       LICENSE.h\t       README.es\n",
            "bootstrap      loop.c\t\t       README-LUA\n",
            "CHANGELOG      loop.h\t\t       README.md\n",
            "config.h       lua-tg.c\t\t       README-PY.md\n",
            "config.h.in    lua-tg.h\t\t       rpm\n",
            "config.log     m4_ax_check_openssl.m4  server.pub\n",
            "config.sample  m4_ax_check_zlib.m4     start-telegram-daemon\n",
            "config.status  m4-ax_gcc_builtin.m4    telegram-cli-cygwin.patch\n",
            "configure      main.c\t\t       telegram-cli.spec\n",
            "configure.ac   Makefile\t\t       telegram-daemon\n",
            "debian\t       Makefile.in\t       telegram.h\n",
            "dep\t       Makefile.tgl\t       test.lua\n",
            "event-old.h    Makefile.tl-parser      tgl\n",
            "gentoo\t       mime.types\t       tg-server.pub\n",
            "interface.c    objs\t\t       tg-test.py\n",
            "interface.h    python-tg.c\n",
            "json-tg.c      python-tg.h\n"
          ]
        }
      ]
    },
    {
      "cell_type": "code",
      "source": [
        "!ls"
      ],
      "metadata": {
        "colab": {
          "base_uri": "https://localhost:8080/"
        },
        "id": "6vvZ3FA-z1m1",
        "outputId": "f3f7310e-2d0b-4978-ce2b-a93bfa56cf5f"
      },
      "execution_count": null,
      "outputs": [
        {
          "output_type": "stream",
          "name": "stdout",
          "text": [
            "auto\t       json-tg.h\t       python-types.c\n",
            "ax_lua.m4      libs\t\t       python-types.h\n",
            "ax_python.m4   LICENSE\t\t       README-Cygwin.md\n",
            "bin\t       LICENSE.h\t       README.es\n",
            "bootstrap      loop.c\t\t       README-LUA\n",
            "CHANGELOG      loop.h\t\t       README.md\n",
            "config.h       lua-tg.c\t\t       README-PY.md\n",
            "config.h.in    lua-tg.h\t\t       rpm\n",
            "config.log     m4_ax_check_openssl.m4  server.pub\n",
            "config.sample  m4_ax_check_zlib.m4     start-telegram-daemon\n",
            "config.status  m4-ax_gcc_builtin.m4    telegram-cli-cygwin.patch\n",
            "configure      main.c\t\t       telegram-cli.spec\n",
            "configure.ac   Makefile\t\t       telegram-daemon\n",
            "debian\t       Makefile.in\t       telegram.h\n",
            "dep\t       Makefile.tgl\t       test.lua\n",
            "event-old.h    Makefile.tl-parser      tgl\n",
            "gentoo\t       mime.types\t       tg-server.pub\n",
            "interface.c    objs\t\t       tg-test.py\n",
            "interface.h    python-tg.c\n",
            "json-tg.c      python-tg.h\n"
          ]
        }
      ]
    },
    {
      "cell_type": "code",
      "source": [
        "ls"
      ],
      "metadata": {
        "colab": {
          "base_uri": "https://localhost:8080/"
        },
        "id": "OOBsp_0T1gSk",
        "outputId": "fb1e2fdc-0d8e-4654-8db7-e265fb489e61"
      },
      "execution_count": null,
      "outputs": [
        {
          "output_type": "stream",
          "name": "stdout",
          "text": [
            "\u001b[0m\u001b[01;34mauto\u001b[0m/           json-tg.h               python-types.c\n",
            "ax_lua.m4       \u001b[01;34mlibs\u001b[0m/                   python-types.h\n",
            "ax_python.m4    LICENSE                 \u001b[01;32mREADME-Cygwin.md\u001b[0m*\n",
            "\u001b[01;34mbin\u001b[0m/            LICENSE.h               README.es\n",
            "\u001b[01;32mbootstrap\u001b[0m*      loop.c                  README-LUA\n",
            "CHANGELOG       loop.h                  README.md\n",
            "config.h        lua-tg.c                README-PY.md\n",
            "config.h.in     lua-tg.h                \u001b[01;34mrpm\u001b[0m/\n",
            "config.log      m4_ax_check_openssl.m4  server.pub\n",
            "config.sample   m4_ax_check_zlib.m4     \u001b[01;32mstart-telegram-daemon\u001b[0m*\n",
            "\u001b[01;32mconfig.status\u001b[0m*  m4-ax_gcc_builtin.m4    telegram-cli-cygwin.patch\n",
            "\u001b[01;32mconfigure\u001b[0m*      main.c                  telegram-cli.spec\n",
            "configure.ac    Makefile                \u001b[01;32mtelegram-daemon\u001b[0m*\n",
            "\u001b[01;34mdebian\u001b[0m/         Makefile.in             telegram.h\n",
            "\u001b[01;34mdep\u001b[0m/            Makefile.tgl            test.lua\n",
            "event-old.h     Makefile.tl-parser      \u001b[01;34mtgl\u001b[0m/\n",
            "\u001b[01;34mgentoo\u001b[0m/         \u001b[01;36mmime.types\u001b[0m@             tg-server.pub\n",
            "interface.c     \u001b[01;34mobjs\u001b[0m/                   tg-test.py\n",
            "interface.h     python-tg.c\n",
            "json-tg.c       python-tg.h\n"
          ]
        }
      ]
    },
    {
      "cell_type": "code",
      "source": [
        "!./configure"
      ],
      "metadata": {
        "colab": {
          "base_uri": "https://localhost:8080/"
        },
        "id": "RIhaB8pm1-FJ",
        "outputId": "46731171-b8f0-44dd-8be9-24e6a9aff224"
      },
      "execution_count": null,
      "outputs": [
        {
          "output_type": "stream",
          "name": "stdout",
          "text": [
            "checking for gcc... gcc\n",
            "checking whether the C compiler works... yes\n",
            "checking for C compiler default output file name... a.out\n",
            "checking for suffix of executables... \n",
            "checking whether we are cross compiling... no\n",
            "checking for suffix of object files... o\n",
            "checking whether we are using the GNU C compiler... yes\n",
            "checking whether gcc accepts -g... yes\n",
            "checking for gcc option to accept ISO C89... none needed\n",
            "checking for library containing clock_gettime... none required\n",
            "checking for library containing backtrace... none required\n",
            "checking for event_base_new in -levent... yes\n",
            "checking how to run the C preprocessor... gcc -E\n",
            "checking for grep that handles long lines and -e... /bin/grep\n",
            "checking for egrep... /bin/grep -E\n",
            "checking for ANSI C header files... yes\n",
            "checking for sys/types.h... yes\n",
            "checking for sys/stat.h... yes\n",
            "checking for stdlib.h... yes\n",
            "checking for string.h... yes\n",
            "checking for memory.h... yes\n",
            "checking for strings.h... yes\n",
            "checking for inttypes.h... yes\n",
            "checking for stdint.h... yes\n",
            "checking for unistd.h... yes\n",
            "checking event2/event.h usability... yes\n",
            "checking event2/event.h presence... yes\n",
            "checking for event2/event.h... yes\n",
            "checking for pkg-config... /usr/bin/pkg-config\n",
            "checking whether compiling and linking against OpenSSL works... yes\n",
            "checking if zlib is wanted... yes\n",
            "checking for inflateEnd in -lz... yes\n",
            "checking zlib.h usability... yes\n",
            "checking zlib.h presence... yes\n",
            "checking for zlib.h... yes\n",
            "checking for rl_save_prompt in -lreadline... yes\n",
            "checking for libconfig... enabled\n",
            "checking for config_init in -lconfig... yes\n",
            "checking for liblua... enabled\n",
            "checking for lua... /usr/bin/lua\n",
            "checking if /usr/bin/lua is a Lua interpreter... yes\n",
            "checking for lua version... 5.2\n",
            "checking for lua platform... unknown\n",
            "checking for lua script directory... ${prefix}/share/lua/5.2\n",
            "checking for lua module directory... ${exec_prefix}/lib/lua/5.2\n",
            "checking if LUA_VERSION is defined... yes\n",
            "checking lua.h usability... no\n",
            "checking lua.h presence... no\n",
            "checking for lua.h... no\n",
            "checking lualib.h usability... no\n",
            "checking lualib.h presence... no\n",
            "checking for lualib.h... no\n",
            "checking lauxlib.h usability... no\n",
            "checking lauxlib.h presence... no\n",
            "checking for lauxlib.h... no\n",
            "checking luaconf.h usability... no\n",
            "checking luaconf.h presence... no\n",
            "checking for luaconf.h... no\n",
            "checking for Lua headers in... /usr/include/lua5.2\n",
            "checking lua.h usability... yes\n",
            "checking lua.h presence... yes\n",
            "checking for lua.h... yes\n",
            "checking lualib.h usability... yes\n",
            "checking lualib.h presence... yes\n",
            "checking for lualib.h... yes\n",
            "checking lauxlib.h usability... yes\n",
            "checking lauxlib.h presence... yes\n",
            "checking for lauxlib.h... yes\n",
            "checking luaconf.h usability... yes\n",
            "checking luaconf.h presence... yes\n",
            "checking for luaconf.h... yes\n",
            "checking for Lua header version... 5.2\n",
            "checking if Lua header version matches 5.2... yes\n",
            "checking if LUA_VERSION is defined... yes\n",
            "checking for library containing exp... -lm\n",
            "checking for library containing dlopen... -ldl\n",
            "checking for library containing lua_load... -llua5.2\n",
            "checking for python... disabled\n",
            "checking for libjansson... enabled\n",
            "checking for json_array_set_new in -ljansson... yes\n",
            "checking progname... default\n",
            "checking execinfo.h usability... yes\n",
            "checking execinfo.h presence... yes\n",
            "checking for execinfo.h... yes\n",
            "checking fcntl.h usability... yes\n",
            "checking fcntl.h presence... yes\n",
            "checking for fcntl.h... yes\n",
            "checking malloc.h usability... yes\n",
            "checking malloc.h presence... yes\n",
            "checking for malloc.h... yes\n",
            "checking netdb.h usability... yes\n",
            "checking netdb.h presence... yes\n",
            "checking for netdb.h... yes\n",
            "checking for stdlib.h... (cached) yes\n",
            "checking for string.h... (cached) yes\n",
            "checking for unistd.h... (cached) yes\n",
            "checking arpa/inet.h usability... yes\n",
            "checking arpa/inet.h presence... yes\n",
            "checking for arpa/inet.h... yes\n",
            "checking mach/mach.h usability... no\n",
            "checking mach/mach.h presence... no\n",
            "checking for mach/mach.h... no\n",
            "checking netinet/in.h usability... yes\n",
            "checking netinet/in.h presence... yes\n",
            "checking for netinet/in.h... yes\n",
            "checking sys/file.h usability... yes\n",
            "checking sys/file.h presence... yes\n",
            "checking for sys/file.h... yes\n",
            "checking sys/socket.h usability... yes\n",
            "checking sys/socket.h presence... yes\n",
            "checking for sys/socket.h... yes\n",
            "checking termios.h usability... yes\n",
            "checking termios.h presence... yes\n",
            "checking for termios.h... yes\n",
            "checking for size_t... yes\n",
            "checking for uid_t in sys/types.h... yes\n",
            "checking for inline... inline\n",
            "checking for stdlib.h... (cached) yes\n",
            "checking for GNU libc compatible malloc... yes\n",
            "checking for stdlib.h... (cached) yes\n",
            "checking for GNU libc compatible realloc... yes\n",
            "checking for alarm... yes\n",
            "checking for endpwent... yes\n",
            "checking for memset... yes\n",
            "checking for memmove... yes\n",
            "checking for mkdir... yes\n",
            "checking for select... yes\n",
            "checking for socket... yes\n",
            "checking for strdup... yes\n",
            "checking for strndup... yes\n",
            "checking for uname... yes\n",
            "checking for __builtin_bswap32... yes\n",
            "configure: creating ./config.status\n",
            "config.status: creating Makefile\n",
            "config.status: creating config.h\n",
            "config.status: config.h is unchanged\n"
          ]
        }
      ]
    },
    {
      "cell_type": "code",
      "source": [
        "!make"
      ],
      "metadata": {
        "colab": {
          "base_uri": "https://localhost:8080/"
        },
        "id": "FqmPY1mD2HqI",
        "outputId": "c17080eb-a7de-4d46-e532-8ba309d0e8b2"
      },
      "execution_count": null,
      "outputs": [
        {
          "output_type": "stream",
          "name": "stdout",
          "text": [
            "gcc -I. -I. -I./tgl -g -O2  -I/usr/local/include -I/usr/include -I/usr/include -I/usr/include/lua5.2  -DHAVE_CONFIG_H -Wall -Werror -Wextra -Wno-missing-field-initializers -Wno-deprecated-declarations -fno-strict-aliasing -fno-omit-frame-pointer -ggdb -Wno-unused-parameter -fPIC -iquote ./tgl -c -MP -MD -MF dep/crypto/rsa_pem_openssl.d -MQ objs/crypto/rsa_pem_openssl.o -o objs/crypto/rsa_pem_openssl.o tgl/crypto/rsa_pem_openssl.c\n",
            "\u001b[01m\u001b[Ktgl/crypto/rsa_pem_openssl.c:\u001b[m\u001b[K In function ‘\u001b[01m\u001b[KTGLC_rsa_new\u001b[m\u001b[K’:\n",
            "\u001b[01m\u001b[Ktgl/crypto/rsa_pem_openssl.c:41:6:\u001b[m\u001b[K \u001b[01;31m\u001b[Kerror: \u001b[m\u001b[Kdereferencing pointer to incomplete type ‘\u001b[01m\u001b[KRSA {aka struct rsa_st}\u001b[m\u001b[K’\n",
            "   ret\u001b[01;31m\u001b[K->\u001b[m\u001b[Ke = unwrap_bn (TGLC_bn_new ());\n",
            "      \u001b[01;31m\u001b[K^~\u001b[m\u001b[K\n",
            "\u001b[01m\u001b[Ktgl/crypto/rsa_pem_openssl.c:\u001b[m\u001b[K In function ‘\u001b[01m\u001b[KTGLC_rsa_n\u001b[m\u001b[K’:\n",
            "\u001b[01m\u001b[Ktgl/crypto/rsa_pem_openssl.c:52:1:\u001b[m\u001b[K \u001b[01;31m\u001b[Kerror: \u001b[m\u001b[Kcontrol reaches end of non-void function [\u001b[01;31m\u001b[K-Werror=return-type\u001b[m\u001b[K]\n",
            " \u001b[01;31m\u001b[KRSA_GETTER\u001b[m\u001b[K(n);\n",
            " \u001b[01;31m\u001b[K^~~~~~~~~~\u001b[m\u001b[K\n",
            "\u001b[01m\u001b[Ktgl/crypto/rsa_pem_openssl.c:\u001b[m\u001b[K In function ‘\u001b[01m\u001b[KTGLC_rsa_e\u001b[m\u001b[K’:\n",
            "\u001b[01m\u001b[Ktgl/crypto/rsa_pem_openssl.c:53:1:\u001b[m\u001b[K \u001b[01;31m\u001b[Kerror: \u001b[m\u001b[Kcontrol reaches end of non-void function [\u001b[01;31m\u001b[K-Werror=return-type\u001b[m\u001b[K]\n",
            " \u001b[01;31m\u001b[KRSA_GETTER\u001b[m\u001b[K(e);\n",
            " \u001b[01;31m\u001b[K^~~~~~~~~~\u001b[m\u001b[K\n",
            "cc1: all warnings being treated as errors\n",
            "Makefile.tgl:20: recipe for target 'objs/crypto/rsa_pem_openssl.o' failed\n",
            "make: *** [objs/crypto/rsa_pem_openssl.o] Error 1\n"
          ]
        }
      ]
    }
  ],
  "metadata": {
    "colab": {
      "collapsed_sections": [],
      "name": "“modos-coding-download-youtube-videos.ipynb”的副本",
      "provenance": [],
      "toc_visible": true,
      "include_colab_link": true
    },
    "kernelspec": {
      "display_name": "Python 3",
      "name": "python3"
    },
    "language_info": {
      "name": "python"
    }
  },
  "nbformat": 4,
  "nbformat_minor": 0
}